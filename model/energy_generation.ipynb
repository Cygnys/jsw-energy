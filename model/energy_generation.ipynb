{
 "cells": [
  {
   "cell_type": "code",
   "execution_count": 2,
   "metadata": {},
   "outputs": [
    {
     "name": "stdout",
     "output_type": "stream",
     "text": [
      "Weather data fetched successfully!\n",
      "Cloud Cover: 1%\n",
      "Wind Speed: 1.51 m/s\n",
      "Solar Energy Generated: 37.87 kWh/day\n",
      "Wind Energy Generated: 1.19 kWh/day\n",
      "Hydro Energy Generated: 40024.80 kWh/day\n"
     ]
    }
   ],
   "source": [
    "import requests\n",
    "import math\n",
    "\n",
    "# Constants\n",
    "SOLAR_MAX_IRRADIANCE = 5  # kWh/m²/day (approx. for sunny areas in India)\n",
    "AIR_DENSITY = 1.225  # kg/m³ (at sea level)\n",
    "WATER_DENSITY = 1000  # kg/m³ (density of water)\n",
    "GRAVITY = 9.81  # m/s² (acceleration due to gravity)\n",
    "\n",
    "# API setup\n",
    "API_KEY = \"5a5dc4c0a633d9df1f1fd24f47b52ea0\"\n",
    "LOCATION = \"Pen,IN\"  # Replace with your city\n",
    "URL = f\"http://api.openweathermap.org/data/2.5/weather?q={LOCATION}&appid={API_KEY}\"\n",
    "\n",
    "# Fetch data from API\n",
    "response = requests.get(URL)\n",
    "weather_data = response.json()\n",
    "\n",
    "# Check if the request was successful\n",
    "if response.status_code == 200:\n",
    "    print(\"Weather data fetched successfully!\")\n",
    "else:\n",
    "    print(\"Failed to fetch weather data. Please check the API key or city name.\")\n",
    "    exit()\n",
    "\n"
   ]
  },
  {
   "cell_type": "code",
   "execution_count": 9,
   "metadata": {},
   "outputs": [
    {
     "name": "stdout",
     "output_type": "stream",
     "text": [
      "Cloud Cover: 1%\n",
      "Solar Energy Generated: 37.87 kWh/day\n"
     ]
    }
   ],
   "source": [
    "# Extract required values\n",
    "cloud_cover = weather_data[\"clouds\"][\"all\"]  # Cloud cover (%)\n",
    "\n",
    "# Parameters for Solar, Wind, and Hydro Energy\n",
    "# Solar\n",
    "solar_area = 50  # m² (panel area)\n",
    "solar_efficiency = 0.18  # 18%\n",
    "performance_ratio = 0.85  # System efficiency\n",
    "\n",
    "\n",
    "# Solar Energy Calculation\n",
    "def calculate_solar_energy(area, efficiency, cloud_cover, performance_ratio):\n",
    "    irradiance = SOLAR_MAX_IRRADIANCE * (1 - cloud_cover / 100)\n",
    "    energy = area * efficiency * irradiance * performance_ratio\n",
    "    return energy\n",
    "\n",
    "# Calculate energies\n",
    "solar_energy = calculate_solar_energy(solar_area, solar_efficiency, cloud_cover, performance_ratio)\n",
    "\n",
    "# Output results\n",
    "print(f\"Cloud Cover: {cloud_cover}%\")\n",
    "print(f\"Solar Energy Generated: {solar_energy:.2f} kWh/day\")"
   ]
  },
  {
   "cell_type": "code",
   "execution_count": 8,
   "metadata": {},
   "outputs": [
    {
     "name": "stdout",
     "output_type": "stream",
     "text": [
      "Wind Speed: 1.51 m/s\n",
      "Wind Energy Generated: 1.19 kWh/day\n"
     ]
    }
   ],
   "source": [
    "# Extract required values\n",
    "wind_speed = weather_data[\"wind\"][\"speed\"]  # Wind speed (m/s)\n",
    "\n",
    "# Parameters for Wind Energy\n",
    "# Wind\n",
    "blade_radius = 5  # meters (turbine blade length)\n",
    "turbine_efficiency = 0.3  # 30%\n",
    "hours = 24  # Time in hours\n",
    "\n",
    "# Wind Energy Calculation\n",
    "def calculate_wind_energy(blade_radius, wind_speed, turbine_efficiency, hours):\n",
    "    swept_area = math.pi * blade_radius**2\n",
    "    power = 0.5 * AIR_DENSITY * swept_area * (wind_speed**3) * turbine_efficiency\n",
    "    energy = power * hours / 1000  # Convert Watts to kWh\n",
    "    return energy\n",
    "\n",
    "wind_energy = calculate_wind_energy(blade_radius, wind_speed, turbine_efficiency, hours)\n",
    "\n",
    "print(f\"Wind Speed: {wind_speed} m/s\")\n",
    "print(f\"Wind Energy Generated: {wind_energy:.2f} kWh/day\")"
   ]
  },
  {
   "cell_type": "code",
   "execution_count": 7,
   "metadata": {},
   "outputs": [
    {
     "name": "stdout",
     "output_type": "stream",
     "text": [
      "Precipitation: 50 mm/hour\n",
      "Catchment Area: 2 km²\n",
      "Flow Rate: 23.61 m³/s\n",
      "Head Height: 20 m\n",
      "Estimated Hydropower: 3937.62 kW\n"
     ]
    }
   ],
   "source": [
    "def estimate_hydropower(flow_rate, head_height, efficiency=0.85):\n",
    "\n",
    "    density_water = 1000  # kg/m³ (density of water)\n",
    "    g = 9.81  # m/s² (acceleration due to gravity)\n",
    "    power = density_water * g * flow_rate * head_height * efficiency  # Power in Watts\n",
    "    return power / 1000  # Convert to kW\n",
    "\n",
    "\n",
    "def calculate_flow_rate(precipitation, catchment_area, runoff_coefficient=0.8):\n",
    "\n",
    "    # Convert catchment area from km² to m²\n",
    "    catchment_area_m2 = catchment_area * 1e6\n",
    "    # Convert precipitation from mm to meters\n",
    "    precipitation_m = precipitation / 1000\n",
    "    # Calculate flow volume (m³/s) using runoff coefficient\n",
    "    flow_volume_m3_per_hour = precipitation_m * catchment_area_m2 * runoff_coefficient\n",
    "    flow_rate = flow_volume_m3_per_hour / 3600  # Convert to m³/s\n",
    "    return flow_rate\n",
    "\n",
    "\n",
    "if weather_data:\n",
    "    # Extract rainfall data (in mm over the last hour, default to 1 mm if not available)\n",
    "    precipitation = 50 #weather_data.get(\"rain\", {}).get(\"1h\", 1)  # mm/hour\n",
    "    # Define catchment area (in km², can vary based on location)\n",
    "    catchment_area = 2  # km²\n",
    "    # Define head height (in meters, based on geography)\n",
    "    head_height = 20  # meters\n",
    "    # Runoff coefficient (fraction of rainfall contributing to runoff, typically 0.6–0.9)\n",
    "    runoff_coefficient = 0.85  # Adjust based on terrain (e.g., urban vs rural)\n",
    "\n",
    "    # Calculate flow rate\n",
    "    flow_rate = calculate_flow_rate(precipitation, catchment_area, runoff_coefficient)\n",
    "\n",
    "    # Estimate hydropower\n",
    "    hydropower = estimate_hydropower(flow_rate, head_height)\n",
    "\n",
    "    # Output results\n",
    "    print(f\"Precipitation: {precipitation} mm/hour\")\n",
    "    print(f\"Catchment Area: {catchment_area} km²\")\n",
    "    print(f\"Flow Rate: {flow_rate:.2f} m³/s\")\n",
    "    print(f\"Head Height: {head_height} m\")\n",
    "    print(f\"Estimated Hydropower: {hydropower:.2f} kW\")\n"
   ]
  }
 ],
 "metadata": {
  "kernelspec": {
   "display_name": "Python 3",
   "language": "python",
   "name": "python3"
  },
  "language_info": {
   "codemirror_mode": {
    "name": "ipython",
    "version": 3
   },
   "file_extension": ".py",
   "mimetype": "text/x-python",
   "name": "python",
   "nbconvert_exporter": "python",
   "pygments_lexer": "ipython3",
   "version": "3.12.7"
  }
 },
 "nbformat": 4,
 "nbformat_minor": 2
}
